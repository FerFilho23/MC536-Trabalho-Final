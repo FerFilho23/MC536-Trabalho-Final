{
  "nbformat": 4,
  "nbformat_minor": 0,
  "metadata": {
    "colab": {
      "name": "Notebook -Trabalho Final.ipynb",
      "provenance": [],
      "collapsed_sections": []
    },
    "kernelspec": {
      "name": "python3",
      "display_name": "Python 3"
    },
    "language_info": {
      "name": "python"
    }
  },
  "cells": [
    {
      "cell_type": "markdown",
      "metadata": {
        "id": "GpftdE7aEOzF"
      },
      "source": [
        "# **MC536 - Trabalho Final**\n",
        "\n",
        "### **Equipe Coviders**\n",
        "\n",
        "Fernando dos R. S. Filho - RA: 234471\n",
        "\n",
        "Renan Hiroki Bastos - RA: 176573\n",
        "\n",
        "Vinicius Alves Mancine Dantas - RA: 188092"
      ]
    },
    {
      "cell_type": "code",
      "metadata": {
        "colab": {
          "base_uri": "https://localhost:8080/",
          "height": 133
        },
        "id": "PHh4CAIgKM89",
        "cellView": "code",
        "outputId": "69e0ff2b-e998-475a-8de0-51ce6f2831ae"
      },
      "source": [
        "# IMPORTAR ARQUIVOS CSV PARA EUROPA\n",
        "DROP TABLE IF EXISTS tabela_original;\n",
        "DROP TABLE IF EXISTS uso_mascara_original;\n",
        "\n",
        "CREATE TABLE tabela_original (\n",
        "    id INTEGER NOT NULL,\n",
        "\tiso_code VARCHAR(8),\n",
        "\tcontinent VARCHAR(20),\n",
        "\tlocation VARCHAR(35),\n",
        "\tdate VARCHAR(20),\n",
        "\ttotal_cases DEC(12, 2),\n",
        "\tnew_cases DEC(12, 2),\n",
        "\tnew_cases_smoothed DEC(12, 2),\n",
        "\ttotal_deaths DEC(12, 2),\n",
        "\tnew_deaths DEC(12, 2),\n",
        "\tnew_deaths_smoothed DEC(12, 2),\n",
        "\ttotal_cases_per_million DEC(12, 2),\n",
        "\tnew_cases_per_million DEC(12, 2),\n",
        "\tnew_cases_smoothed_per_million DEC(12, 2),\n",
        "\ttotal_deaths_per_million DEC(12, 2),\n",
        "\tnew_deaths_per_million DEC(12, 2),\n",
        "\tnew_deaths_smoothed_per_million DEC(12, 2),\n",
        "\treproduction_rate DEC(12, 2),\n",
        "\ticu_patients DEC(12, 2),\n",
        "\ticu_patients_per_million DEC(12, 2),\n",
        "\thosp_patients DEC(12, 2),\n",
        "\thosp_patients_per_million DEC(12, 2),\n",
        "\tweekly_icu_admissions DEC(12, 2),\n",
        "\tweekly_icu_admissions_per_million  DEC(12, 2),\n",
        "\tweekly_hosp_admissions DEC(12, 2),\n",
        "\tweekly_hosp_admissions_per_million DEC(12, 2),\n",
        "\tnew_tests DEC(12, 2),\n",
        "\ttotal_tests DEC(12, 2),\n",
        "\ttotal_tests_per_thousand DEC(12, 2),\n",
        "\tnew_tests_per_thousand DEC(12, 2),\n",
        "\tnew_tests_smoothed DEC(12, 2),\n",
        "\tnew_tests_smoothed_per_thousand DEC(12, 2),\n",
        "\tpositive_rate DEC(12, 2),\n",
        "\ttests_per_case DEC(12, 2),\n",
        "\ttests_units VARCHAR(20),\n",
        "\ttotal_vaccinations DEC(12, 2),\n",
        "\tpeople_vaccinated DEC(12, 2),\n",
        "\tpeople_fully_vaccinated DEC(12, 2),\n",
        "\ttotal_boosters DEC(12, 2),\n",
        "\tnew_vaccinations DEC(12, 2),\n",
        "\tnew_vaccinations_smoothed DEC(12, 2),\n",
        "\ttotal_vaccinations_per_hundred DEC(12, 2),\n",
        "\tpeople_vaccinated_per_hundred DEC(12, 2),\n",
        "\tpeople_fully_vaccinated_per_hundred DEC(12, 2),\n",
        "\ttotal_boosters_per_hundred DEC(12, 2),\n",
        "\tnew_vaccinations_smoothed_per_million DEC(12, 2),\n",
        "\tstringency_index DEC(12, 2),\n",
        "\tpopulation DEC(12, 2),\n",
        "\tpopulation_density DEC(12, 2),\n",
        "\tmedian_age DEC(12, 2),\n",
        "\taged_65_older DEC(12, 2),\n",
        "\taged_70_older DEC(12, 2),\n",
        "\tgdp_per_capita DEC(12, 2),\n",
        "\textreme_poverty DEC(12, 2),\n",
        "\tcardiovasc_death_rate DEC(12, 2),\n",
        "\tdiabetes_prevalence DEC(12, 2),\n",
        "\tfemale_smokers DEC(12, 2),\n",
        "\tmale_smokers DEC(12, 2),\n",
        "\thandwashing_facilities DEC(12, 2),\n",
        "\thospital_beds_per_thousand DEC(12, 2),\n",
        "\tlife_expectancy DEC(12, 2),\n",
        "\thuman_development_index DEC(12, 2),\n",
        "\texcess_mortality DEC(12, 2),\n",
        "\tPRIMARY KEY(ID)\n",
        ");\n",
        "\n",
        "CREATE TABLE uso_mascara_original (\n",
        "\tid INTEGER NOT NULL,\n",
        "\tdate VARCHAR(10),\n",
        "\tlocation VARCHAR(20),\n",
        "\tmask_use_percentage DEC(4, 2),\n",
        "\tPRIMARY KEY(ID)\n",
        ");\n",
        "\n",
        "COPY uso_mascara_original\n",
        "FROM 'C:\\Users\\Public\\yougov-chart.csv'\n",
        "DELIMITER ','\n",
        "CSV HEADER;\n",
        "\n",
        "CREATE TABLE uso_mascara_original (\n",
        "\tid INTEGER NOT NULL,\n",
        "\tdate VARCHAR(10),\n",
        "\tlocation VARCHAR(20),\n",
        "\tmask_use_percentage DEC(4, 2),\n",
        "\tPRIMARY KEY(ID)\n",
        ");\n",
        "\n",
        "COPY uso_mascara_original\n",
        "FROM 'C:\\Users\\Public\\yougov-chart.csv'\n",
        "DELIMITER ','\n",
        "CSV HEADER;"
      ],
      "execution_count": null,
      "outputs": [
        {
          "output_type": "error",
          "ename": "SyntaxError",
          "evalue": "ignored",
          "traceback": [
            "\u001b[0;36m  File \u001b[0;32m\"<ipython-input-1-1bcaf0cc8599>\"\u001b[0;36m, line \u001b[0;32m1\u001b[0m\n\u001b[0;31m    DROP TABLE IF EXISTS tabela_original;\u001b[0m\n\u001b[0m             ^\u001b[0m\n\u001b[0;31mSyntaxError\u001b[0m\u001b[0;31m:\u001b[0m invalid syntax\n"
          ]
        }
      ]
    },
    {
      "cell_type": "code",
      "metadata": {
        "id": "8A7SevjhKaBz"
      },
      "source": [
        "# TRATAR DADOS DA OUR WORLD IN DATA (EUROPA)\n",
        "\n",
        "DROP VIEW IF EXISTS view_europa;\n",
        "DROP TABLE IF EXISTS table_europa;\n",
        "\n",
        "CREATE VIEW view_europa AS\n",
        "SELECT id,\n",
        "\t   location,\n",
        "\t   date,\n",
        "\t   total_cases,\t\n",
        "\t   LAG(total_cases) OVER (\n",
        "\t\t   ORDER BY id) old_total_cases,\n",
        "\t   total_deaths,\n",
        "\t   LAG(total_deaths) OVER (\n",
        "\t\t   ORDER BY id) old_total_deaths\n",
        "FROM tabela_original\n",
        "WHERE (location='Denmark' OR location='Finland' OR location='France' OR location='Germany' OR location='Italy' OR location='Norway' OR location='Spain' OR location='Sweden' OR location='United Kingdom')\n",
        "\t\tAND (date='2020-02-01' OR date='2020-03-01' OR date='2020-04-01' OR date='2020-05-01' OR date='2020-06-01' OR date='2020-07-01' OR date='2020-08-01' OR date='2020-09-01' OR date='2020-10-01' OR date='2020-11-01' OR date='2020-12-01' OR date='2021-01-01' OR date='2021-02-01' OR date='2021-03-01' OR date='2021-04-01' OR date='2021-05-01' OR date='2021-06-01' OR date='2021-07-01' OR date='2021-08-01');\n",
        "\n",
        "CREATE TABLE table_europa AS\n",
        "\tSELECT id,\n",
        "\t   location,\n",
        "\t   date,\n",
        "\t   total_cases,\t\n",
        "\t   total_cases - old_total_cases as new_cases,\n",
        "\t   total_deaths,\n",
        "\t   total_deaths - old_total_deaths as new_deaths\n",
        "FROM view_europa;\n",
        "\n",
        "UPDATE table_europa\n",
        "SET new_cases = total_cases\n",
        "WHERE (date = '2020-02-01' AND new_cases < 0) OR (date = '2020-03-01' AND new_cases < 0);\n",
        "\n",
        "SELECT * FROM table_europa ORDER BY id;"
      ],
      "execution_count": null,
      "outputs": []
    },
    {
      "cell_type": "code",
      "metadata": {
        "id": "AozrHu_aDsX-"
      },
      "source": [
        "# JOIN DAS TABELAS DE NUMEROS DE CASOS E USO DE MÁSCARA PARA A EUROPA\n",
        "\n",
        "CREATE TABLE europa_final AS\n",
        "SELECT eu.*, um.mask_use_percentage \n",
        "FROM table_europa eu\n",
        "INNER JOIN uso_mascara_original um ON (eu.date = um.date) AND (eu.location = um.location);"
      ],
      "execution_count": null,
      "outputs": []
    },
    {
      "cell_type": "code",
      "metadata": {
        "id": "4UlglGNDn6uO"
      },
      "source": [
        "# IMPORTAR ARQUIVOS CSV PARA OS EUA\n",
        "\n",
        "DROP TABLE IF EXISTS dados_nyt;\n",
        "\n",
        "CREATE TABLE dados_nyt (\n",
        "\tid INTEGER NOT NULL,\n",
        "\tdate VARCHAR(10),\n",
        "\tstate VARCHAR(40),\n",
        "\tfips INTEGER,\n",
        "\tcases INTEGER,\n",
        "\tdeaths INTEGER,\n",
        "\tPRIMARY KEY(ID)\n",
        ");\n",
        "\n",
        "COPY dados_nyt\n",
        "FROM 'C:\\Users\\Public\\nyt.csv'\n",
        "DELIMITER ','\n",
        "CSV HEADER;\n",
        "\n",
        "DROP TABLE IF EXISTS plosone_data;\n",
        "\n",
        "CREATE TABLE plosone_data (\n",
        "\tStateID INTEGER,\n",
        "\tState VARCHAR(20),\n",
        "\tadh_AUGavg DEC(4, 2),\n",
        "\tadh_JULavg DEC(4, 2),\n",
        "\tadh_JUNEavg DEC(4, 2),\n",
        "\tadh_MAYavg DEC(4, 2),\n",
        "\tadh_APRavg DEC(4, 2),\n",
        "\tPop_2019 INTEGER,\n",
        "\tHispanic DEC(4, 2),\n",
        "\tNHBlack DEC(4, 2),\n",
        "\tNHWhite DEC(4, 2),\n",
        "\tAge DEC(4, 2),\n",
        "\tPopDensity DEC(8, 2),\n",
        "\tDistancePolicy VARCHAR(20),\n",
        "\ttot_Cases_Jul INTEGER,\n",
        "\tDistanceNone INTEGER,\n",
        "\tDistanceStrict INTEGER,\n",
        "\tDistCat INTEGER,\n",
        "\ttot_cases_Apr INTEGER,\n",
        "\ttot_cases_May INTEGER,\n",
        "\ttot_cases_Jun INTEGER,\n",
        "\ttot_cases_Aug INTEGER,\n",
        "\ttot_cases_Sep INTEGER,\n",
        "\tnewCases_May INTEGER,\n",
        "\tnewCases_Jun INTEGER,\n",
        "\tnewCases_Jul INTEGER,\n",
        "\tnewCases_Aug INTEGER,\n",
        "\tnewCases_Sep INTEGER,\n",
        "\tcase_rate_May DEC(8, 2),\n",
        "\tcase_rate_Jun DEC(8, 2),\n",
        "\tcase_rate_Jul DEC(8, 2),\n",
        "\tcase_rate_Aug DEC(8, 2),\n",
        "\tcase_rate_Sep DEC(8, 2),\n",
        "\tEndStayHome VARCHAR(10),\n",
        "\tNoStayHomePolicy INTEGER,\n",
        "\tNoHomeMay INTEGER,\n",
        "\tMaskPolStart VARCHAR(10),\n",
        "\tMaskJunPol INTEGER,\n",
        "\tMaskJulPol INTEGER,\n",
        "\tMaskAugPol INTEGER,\n",
        "\tMaskSepPol INTEGER,\n",
        "\tMaskPolStop INTEGER,\n",
        "\ttot_cases_Oct INTEGER,\n",
        "\tnewCases_Oct INTEGER,\n",
        "\tcase_rate_Oct DEC(8, 2),\n",
        "\tAdhSEPavg DEC(8, 2),\n",
        "\tWk_case_rate_Sep DEC(8, 2),\n",
        "\tWk_case_rate_Oct DEC(8, 2),\n",
        "\tWk_case_rate_Aug DEC(8, 2),\n",
        "\tWk_case_rate_Jul DEC(8, 2),\n",
        "\tWk_case_rate_Jun DEC(8, 2),\n",
        "\tWk_case_rate_May DEC(8, 2),\n",
        "\tWk_MayHI INTEGER,\n",
        "\tWk_JunHI INTEGER,\n",
        "\tWk_JulHI INTEGER,\n",
        "\tWk_AugHI INTEGER,\n",
        "\tWk_SepHI INTEGER,\n",
        "\tWk_OctHI INTEGER,\n",
        "\tmaskGT75 INTEGER,\n",
        "\tmaskSEP75 INTEGER,\n",
        "\tmaskJUL75 INTEGER,\n",
        "\tmaskAUG75 INTEGER,\n",
        "\tstrictJunPol INTEGER,\n",
        "\tstrictJulPol INTEGER,\n",
        "\tstrictSeplPol INTEGER,\n",
        "\tstrictSepPol INTEGER,\n",
        "\tstrictAuglPol INTEGER,\n",
        "\tstrictAugPol INTEGER,\n",
        "\tPRIMARY KEY(StateID)\n",
        ");\n",
        "\n",
        "COPY plosone_data\n",
        "FROM 'C:\\Users\\Public\\plosone.csv'\n",
        "DELIMITER ','\n",
        "CSV HEADER;"
      ],
      "execution_count": null,
      "outputs": []
    },
    {
      "cell_type": "code",
      "metadata": {
        "id": "IEU80xxgnvRA"
      },
      "source": [
        "# TRATAR DADOS DO NYT (EUA)\n",
        "\n",
        "DROP TABLE IF EXISTS table_eua;\n",
        "\n",
        "CREATE TABLE table_eua AS\n",
        "SELECT temp_data.id,\n",
        "\t   temp_data.location,\n",
        "\t   temp_data.date,\n",
        "\t   temp_data.cases as new_cases,\n",
        "\t   SUM(temp_data.cases) OVER (PARTITION BY location \n",
        "\t\t\t\t\t\t\t\t  ROWS BETWEEN UNBOUNDED PRECEDING \n",
        "                                  AND 0 PRECEDING ) AS total_cases,\n",
        "\t   temp_data.deaths as new_deaths,\n",
        "\t   SUM(temp_data.deaths) OVER (PARTITION BY location \n",
        "\t\t\t\t\t\t\t\t   ROWS BETWEEN UNBOUNDED PRECEDING \n",
        "                                   AND 0 PRECEDING ) AS total_deaths\n",
        "FROM (SELECT id,\n",
        "\t   state as location,\n",
        "\t   date,\n",
        "\t   cases,\n",
        "\t   deaths\n",
        "\t   FROM dados_nyt\n",
        "\t   ORDER BY state, id) as temp_data\n",
        "WHERE (date='2020-02-01' OR date='2020-03-01' OR date='2020-04-01' OR date='2020-05-01' OR date='2020-06-01' OR date='2020-07-01' OR date='2020-08-01' OR date='2020-09-01' OR date='2020-10-01' OR date='2020-11-01' OR date='2020-12-01' OR date='2021-01-01' OR date='2021-02-01' OR date='2021-03-01' OR date='2021-04-01' OR date='2021-05-01' OR date='2021-06-01' OR date='2021-07-01' OR date='2021-08-01');\n",
        "\n",
        "\n",
        "\n",
        "SELECT * from table_eua;"
      ],
      "execution_count": null,
      "outputs": []
    },
    {
      "cell_type": "code",
      "metadata": {
        "id": "yMNYpSar5XsH"
      },
      "source": [
        "# TRATAR DADOS DO PLOS ONE (USO DE MÁSCARA NOS EUA)\n",
        "\n",
        "DROP TABLE IF EXISTS mascara_eua;\n",
        "\n",
        "CREATE TABLE mascara_eua (\n",
        "\tdate VARCHAR(10),\n",
        "\tlocation VARCHAR(40),\n",
        "\tmask_use_percentage DEC(4, 2)\n",
        ");\n",
        "\n",
        "INSERT INTO mascara_eua (location, date, mask_use_percentage)\n",
        "SELECT State, '2020-04-01', adh_APRavg\n",
        "FROM plosone_data;\n",
        "\n",
        "INSERT INTO mascara_eua (location, date, mask_use_percentage)\n",
        "SELECT State, '2020-05-01', adh_MAYavg\n",
        "FROM plosone_data;\n",
        "\n",
        "INSERT INTO mascara_eua (location, date, mask_use_percentage)\n",
        "SELECT State, '2020-06-01', adh_JUNEavg\n",
        "FROM plosone_data;\n",
        "\n",
        "INSERT INTO mascara_eua (location, date, mask_use_percentage)\n",
        "SELECT State, '2020-07-01', adh_JULavg\n",
        "FROM plosone_data;\n",
        "\n",
        "INSERT INTO mascara_eua (location, date, mask_use_percentage)\n",
        "SELECT State, '2020-08-01', adh_AUGavg\n",
        "FROM plosone_data;\n",
        "\n",
        "INSERT INTO mascara_eua (location, date, mask_use_percentage)\n",
        "SELECT State, '2020-09-01', AdhSEPavg\n",
        "FROM plosone_data;"
      ],
      "execution_count": null,
      "outputs": []
    },
    {
      "cell_type": "code",
      "metadata": {
        "id": "tfPjQXNM5grZ"
      },
      "source": [
        "# JOIN DAS TABELAS DE NUMERO DE CASOS E DE USO DE MÁSCARA PARA OS EUA\n",
        "\n",
        "DROP TABLE IF EXISTS eua_final;\n",
        "\n",
        "CREATE TABLE eua_final AS\n",
        "SELECT eua.*, mask.mask_use_percentage \n",
        "FROM table_eua eua\n",
        "INNER JOIN mascara_eua mask ON ((eua.date = mask.date) AND (eua.location = mask.location));\n",
        "\n",
        "INSERT INTO eua_final (id, location, date, new_cases, total_cases, new_deaths, total_deaths, mask_use_percentage)\n",
        "SELECT id, location, '2020-04-01', new_cases, total_cases, new_deaths, total_deaths,  NULL\n",
        "FROM table_eua;"
      ],
      "execution_count": null,
      "outputs": []
    },
    {
      "cell_type": "markdown",
      "metadata": {
        "id": "e8DjMizYFxRE"
      },
      "source": [
        "Com este dataset é possível responder às seguintes perguntas de análise com suas respectivas queries:\n",
        "\n",
        "Os locais com maior número de casos são também os lugares com menor índice de uso de máscaras?"
      ]
    },
    {
      "cell_type": "code",
      "metadata": {
        "id": "xaZdxhyEHzBh"
      },
      "source": [
        "SELECT sum(new_cases),\n",
        "       avg(new_cases)\n",
        "FROM Tabela_final,\n",
        "WHERE mask_use_percentage < 25;\n",
        "\n",
        "SELECT sum(new_cases),\n",
        "       avg(new_cases)\n",
        "FROM Tabela_final,\n",
        "WHERE mask_use_percentage >= 25 AND mask_user_percentage < 50;\n",
        "\n",
        "SELECT sum(new_cases),\n",
        "       avg(new_cases)\n",
        "FROM Tabela_final,\n",
        "WHERE mask_use_percentage >= 50 AND mask_user_percentage < 75; \n",
        "\n",
        "SELECT sum(new_cases),\n",
        "       avg(new_cases)\n",
        "FROM Tabela_final,\n",
        "WHERE mask_use_percentage >= 75;"
      ],
      "execution_count": null,
      "outputs": []
    },
    {
      "cell_type": "markdown",
      "metadata": {
        "id": "lBoqHwuIHwzm"
      },
      "source": [
        "\n",
        "\n",
        "Quais são os locais com maior número de casos por indice de uso de máscaras?"
      ]
    },
    {
      "cell_type": "code",
      "metadata": {
        "id": "htDXma-RH6KL"
      },
      "source": [
        ""
      ],
      "execution_count": null,
      "outputs": []
    },
    {
      "cell_type": "markdown",
      "metadata": {
        "id": "qAu0AAHNH6g8"
      },
      "source": [
        "\n",
        "Qual a influência da adoção do uso de máscaras nos casos confirmados de COVID?\n"
      ]
    },
    {
      "cell_type": "code",
      "metadata": {
        "id": "KxatVu_FH9GT"
      },
      "source": [
        "\n"
      ],
      "execution_count": null,
      "outputs": []
    },
    {
      "cell_type": "markdown",
      "metadata": {
        "id": "nSYsxkwWvlqR"
      },
      "source": [
        "Há alguma evidência de influência do frequência de uso de máscara na taxa de mortalidade?"
      ]
    },
    {
      "cell_type": "code",
      "metadata": {
        "id": "W-4wOEY7uhfy"
      },
      "source": [
        "SELECT  location,\n",
        "        date,\n",
        "        mask_use_percentage,\n",
        "        new_deaths/new_cases as monthly_death_rate,\n",
        "        total_deaths/total_cases as overall_death_rate\n",
        "FROM tabela_final\n",
        "ORDER BY mask_use_percentage, monthly_death_rate;"
      ],
      "execution_count": null,
      "outputs": []
    },
    {
      "cell_type": "markdown",
      "metadata": {
        "id": "iLt0Ql7HICMV"
      },
      "source": [
        "\n",
        "Locais com frequência de uso de máscara iguais possuem taxas de infecções parecidas?"
      ]
    },
    {
      "cell_type": "code",
      "metadata": {
        "id": "EYJ0VCY5IJxH"
      },
      "source": [
        ""
      ],
      "execution_count": null,
      "outputs": []
    },
    {
      "cell_type": "markdown",
      "metadata": {
        "id": "4Pf7W2fAIKBG"
      },
      "source": [
        "Qual o tamanho da diferença na taxa de infecção entre lugares com diferentes frequências de uso de máscara?"
      ]
    },
    {
      "cell_type": "code",
      "metadata": {
        "id": "MY3t_7DPIMmB"
      },
      "source": [
        ""
      ],
      "execution_count": null,
      "outputs": []
    },
    {
      "cell_type": "markdown",
      "metadata": {
        "id": "r_HPMe7KIMyZ"
      },
      "source": [
        "A proporção mortes/casos é influênciada pela frequência no uso de máscara?"
      ]
    },
    {
      "cell_type": "code",
      "metadata": {
        "id": "A2suG9MpINl1"
      },
      "source": [
        ""
      ],
      "execution_count": null,
      "outputs": []
    }
  ]
}